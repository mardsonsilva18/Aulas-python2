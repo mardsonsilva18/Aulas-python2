{
  "nbformat": 4,
  "nbformat_minor": 0,
  "metadata": {
    "colab": {
      "provenance": [],
      "authorship_tag": "ABX9TyMXUNxqqEg7/+7mjE5OXU+5",
      "include_colab_link": true
    },
    "kernelspec": {
      "name": "python3",
      "display_name": "Python 3"
    },
    "language_info": {
      "name": "python"
    }
  },
  "cells": [
    {
      "cell_type": "markdown",
      "metadata": {
        "id": "view-in-github",
        "colab_type": "text"
      },
      "source": [
        "<a href=\"https://colab.research.google.com/github/mardsonsilva18/Aulas-python2/blob/main/Programador.ipynb\" target=\"_parent\"><img src=\"https://colab.research.google.com/assets/colab-badge.svg\" alt=\"Open In Colab\"/></a>"
      ]
    },
    {
      "cell_type": "code",
      "source": [
        "# primeiro comando\n",
        "print ('eu sou hacker')"
      ],
      "metadata": {
        "id": "llVFDXBj7uYY",
        "colab": {
          "base_uri": "https://localhost:8080/"
        },
        "outputId": "8f2d670e-ec60-4474-e64b-117b02361c54"
      },
      "execution_count": null,
      "outputs": [
        {
          "output_type": "stream",
          "name": "stdout",
          "text": [
            "eu sou hacker\n"
          ]
        }
      ]
    },
    {
      "cell_type": "code",
      "source": [
        "# segundo comando\n",
        "print (25-3+5/10)"
      ],
      "metadata": {
        "colab": {
          "base_uri": "https://localhost:8080/"
        },
        "id": "EwngfGH5AvmD",
        "outputId": "f16141fa-c0a5-4adb-93f0-7d9c03f5284d"
      },
      "execution_count": null,
      "outputs": [
        {
          "output_type": "stream",
          "name": "stdout",
          "text": [
            "22.5\n"
          ]
        }
      ]
    },
    {
      "cell_type": "code",
      "source": [
        "# variáveis\n",
        "Nome = 'Mardson'\n",
        "print('Olá '+Nome)"
      ],
      "metadata": {
        "colab": {
          "base_uri": "https://localhost:8080/"
        },
        "id": "wQ97dfo9BrzY",
        "outputId": "ca1f2a2f-42ae-42b9-9c02-9da1fb29f4a1"
      },
      "execution_count": null,
      "outputs": [
        {
          "output_type": "stream",
          "name": "stdout",
          "text": [
            "Olá Mardson\n"
          ]
        }
      ]
    },
    {
      "cell_type": "code",
      "source": [
        "#variáveis numéricas\n",
        "a = 55\n",
        "b = 100\n",
        "print (a+b)\n",
        "print (a-b)\n",
        "print (a*b)\n",
        "print (a/b)"
      ],
      "metadata": {
        "colab": {
          "base_uri": "https://localhost:8080/"
        },
        "id": "SO2z2i9vCglm",
        "outputId": "858f1bb5-3192-4179-85ec-afa8b69248f5"
      },
      "execution_count": null,
      "outputs": [
        {
          "output_type": "stream",
          "name": "stdout",
          "text": [
            "155\n",
            "-45\n",
            "5500\n",
            "0.55\n"
          ]
        }
      ]
    },
    {
      "cell_type": "code",
      "source": [
        "#variáveis numéricas 2\n",
        "nota1 = 8\n",
        "nota2 = 7\n",
        "nota3 = 5\n",
        "media = (nota1+nota2+nota3)/3\n",
        "print (media)"
      ],
      "metadata": {
        "colab": {
          "base_uri": "https://localhost:8080/"
        },
        "id": "qO15aS_DDFCD",
        "outputId": "87768024-c4ac-4d5e-e996-42cff0c15a5b"
      },
      "execution_count": null,
      "outputs": [
        {
          "output_type": "stream",
          "name": "stdout",
          "text": [
            "6.666666666666667\n"
          ]
        }
      ]
    },
    {
      "cell_type": "code",
      "source": [
        "nome = 'Mardson'  # String\n",
        "preco = 12.5      # float\n",
        "idade = 23        # int\n",
        "ehMaior = idade > 18 # lógica, bool"
      ],
      "metadata": {
        "id": "LO0bqLB5xVwm"
      },
      "execution_count": null,
      "outputs": []
    },
    {
      "cell_type": "markdown",
      "source": [
        "entrada de dados notepad"
      ],
      "metadata": {
        "id": "FedYAKAO2Qp-"
      }
    },
    {
      "cell_type": "code",
      "source": [
        "Nome = input('Digite o Nome Do Usuario: ')\n",
        "print('Seja Bem-Vindo', Nome)"
      ],
      "metadata": {
        "colab": {
          "base_uri": "https://localhost:8080/"
        },
        "id": "0UvYaPtRzZj_",
        "outputId": "40e8326f-2da0-487e-e35a-ffcbe15ac808"
      },
      "execution_count": 18,
      "outputs": [
        {
          "output_type": "stream",
          "name": "stdout",
          "text": [
            "Digite o Nome Do Usuario: Mardson\n",
            "Seja Bem-Vindo Mardson\n"
          ]
        }
      ]
    },
    {
      "cell_type": "code",
      "source": [
        "Numero = int (input ('insira o numero: '))\n",
        "print (Numero *2)"
      ],
      "metadata": {
        "colab": {
          "base_uri": "https://localhost:8080/"
        },
        "id": "C10YOXPe26IY",
        "outputId": "26da3aab-9105-45fd-c1da-ac4dbc3f9968"
      },
      "execution_count": 30,
      "outputs": [
        {
          "output_type": "stream",
          "name": "stdout",
          "text": [
            "insira o numero: 23\n",
            "46\n"
          ]
        }
      ]
    },
    {
      "cell_type": "code",
      "source": [
        "Numero = int (input ('insira o numero: '))\n",
        "print (Numero /2)"
      ],
      "metadata": {
        "colab": {
          "base_uri": "https://localhost:8080/"
        },
        "id": "nhIjGDhD6H5S",
        "outputId": "187f9f8c-a6ab-4640-8a95-5eddcf439992"
      },
      "execution_count": 42,
      "outputs": [
        {
          "output_type": "stream",
          "name": "stdout",
          "text": [
            "insira o numero: 20\n",
            "10.0\n"
          ]
        }
      ]
    },
    {
      "cell_type": "code",
      "source": [
        "raio = float(input('insira o raio '))\n",
        "circunferencia = 2 * 3.14 * raio\n",
        "print (circunferencia)"
      ],
      "metadata": {
        "colab": {
          "base_uri": "https://localhost:8080/"
        },
        "id": "hDcvWYgn7HYL",
        "outputId": "b95d7255-bb80-490f-bc93-3ac4f4843f0c"
      },
      "execution_count": 43,
      "outputs": [
        {
          "output_type": "stream",
          "name": "stdout",
          "text": [
            "insira o raio 20\n",
            "125.60000000000001\n"
          ]
        }
      ]
    },
    {
      "cell_type": "code",
      "source": [
        "Altura = float(input('Insira a Altura: '))\n",
        "Peso = float(input('Insira o Peso: '))\n",
        "IMC = Altura / Peso**2\n",
        "print ('O IMC é: ', IMC)\n"
      ],
      "metadata": {
        "colab": {
          "base_uri": "https://localhost:8080/"
        },
        "id": "S5kKhcxx9H_H",
        "outputId": "a39c1b72-62ae-45cb-a6a2-757a0014d4e5"
      },
      "execution_count": 46,
      "outputs": [
        {
          "output_type": "stream",
          "name": "stdout",
          "text": [
            "Insira a Altura: 1.85\n",
            "Insira o Peso: 96\n",
            "O IMC é:  0.00020073784722222224\n"
          ]
        }
      ]
    },
    {
      "cell_type": "code",
      "source": [
        "Temperatura = float(input('Insira a Temperatura: '))\n",
        "print (Temperatura + 274)"
      ],
      "metadata": {
        "colab": {
          "base_uri": "https://localhost:8080/"
        },
        "id": "vv9Jjjkz_R1Q",
        "outputId": "02bdc3cf-c29a-4be4-e55a-5e6e3740d14e"
      },
      "execution_count": 47,
      "outputs": [
        {
          "output_type": "stream",
          "name": "stdout",
          "text": [
            "Insira a Temperatura: 28\n",
            "302.0\n"
          ]
        }
      ]
    },
    {
      "cell_type": "markdown",
      "source": [
        "#estruturas de controle IF e Else"
      ],
      "metadata": {
        "id": "zQL1y0_iA7oI"
      }
    },
    {
      "cell_type": "code",
      "source": [
        "idade = int(input('Insira a idade: '))\n",
        "if(idade >= 18):\n",
        "  print('apto ao concurso')\n",
        "else:\n",
        "  print('Não apto ao concurso')\n"
      ],
      "metadata": {
        "colab": {
          "base_uri": "https://localhost:8080/"
        },
        "id": "VNynfsnnBDqX",
        "outputId": "426899e2-85d6-4b46-fa66-5f1d3083e30b"
      },
      "execution_count": 49,
      "outputs": [
        {
          "output_type": "stream",
          "name": "stdout",
          "text": [
            "Insira a idade: 17\n",
            "Não apto ao concurso\n"
          ]
        }
      ]
    },
    {
      "cell_type": "code",
      "source": [
        "numero = int(input('Insira a numero: '))\n",
        "if(numero >0):\n",
        " print('positivo')\n",
        "elif(numero <0):\n",
        " print('negativo')\n",
        "else:\n",
        " print('zero')\n"
      ],
      "metadata": {
        "colab": {
          "base_uri": "https://localhost:8080/"
        },
        "id": "vFYeJPDODsfl",
        "outputId": "8901b231-9a58-4ccd-909d-8920b0cae37c"
      },
      "execution_count": 53,
      "outputs": [
        {
          "output_type": "stream",
          "name": "stdout",
          "text": [
            "Insira a numero: 0\n",
            "zero\n"
          ]
        }
      ]
    },
    {
      "cell_type": "code",
      "source": [
        "numero1 = int(input('Insira a primeiro numero: '))\n",
        "numero2 = int(input('Insira a segundo nuemro: '))\n",
        "if(numero1 > numero2):\n",
        " print('o primeiro numero é maior')\n",
        "elif(numero1 < numero2):\n",
        " print('o segundo numero é menor')\n",
        "else:\n",
        " print('os numeros são iguais')"
      ],
      "metadata": {
        "colab": {
          "base_uri": "https://localhost:8080/"
        },
        "id": "wFsq_FgfFOLN",
        "outputId": "8cd1b6e3-4bae-4b30-f4c5-793e801bf2f7"
      },
      "execution_count": 64,
      "outputs": [
        {
          "output_type": "stream",
          "name": "stdout",
          "text": [
            "Insira a primeiro numero: 13\n",
            "Insira a segundo nuemro: 22\n",
            "o segundo numero é menor\n"
          ]
        }
      ]
    }
  ]
}